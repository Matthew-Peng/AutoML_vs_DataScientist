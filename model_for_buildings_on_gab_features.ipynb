{
 "cells": [
  {
   "cell_type": "code",
   "execution_count": 16,
   "metadata": {},
   "outputs": [],
   "source": [
    "import pandas as pd\n",
    "import numpy as np\n",
    "import matplotlib.pyplot as plt\n",
    "%matplotlib inline  \n",
    "import os\n",
    "\n",
    "from sklearn import preprocessing\n",
    "import lightgbm as lgb\n",
    "from sklearn.metrics import mean_squared_log_error\n",
    "from sklearn.model_selection import train_test_split\n",
    "\n",
    "from datetime import date\n",
    "import holidays\n",
    "us_holidays = holidays.UnitedStates()\n",
    "\n",
    "pd.set_option('display.max_rows', 500)\n",
    "pd.set_option('display.max_columns', 500)\n",
    "\n",
    "import warnings\n",
    "warnings.filterwarnings('ignore')"
   ]
  },
  {
   "cell_type": "code",
   "execution_count": 59,
   "metadata": {},
   "outputs": [],
   "source": [
    "df = pd.read_feather('Data/train_joined_processed_processed.feather')\n",
    "\n",
    "current_vars = ['building_id', 'meter',  'air_temperature', 'cloud_coverage',\n",
    "        'precip_depth_1_hr', 'wind_direction', 'month', 'day',\n",
    "       'iso_weekend', 'hour', 'holidays', 'wind_speed']\n",
    "\n",
    "# add wind_speed\n",
    "\n",
    "train_df = df.sample(frac=0.8,random_state=11)\n",
    "test_df = df.drop(train_df.index)\n",
    "\n",
    "X_train = train_df[current_vars]\n",
    "y_train = train_df.iloc[:,0]\n",
    "\n",
    "X_test = test_df[current_vars]\n",
    "y_test = test_df.iloc[:,0]\n",
    "\n",
    "del df\n",
    "del train_df\n",
    "del test_df"
   ]
  },
  {
   "cell_type": "code",
   "execution_count": 60,
   "metadata": {},
   "outputs": [],
   "source": [
    "cat_variables = ['meter', 'site_id', 'primary_use', \n",
    "                'iso_weekend',  'holidays',\n",
    "                'wind_direction cat', 'precipitation', 'precipitation sign']\n",
    "\n",
    "cat_variables_loc = list()\n",
    "for col in cat_variables:\n",
    "    if col in X_train.columns:\n",
    "        cat_variables_loc.append(X_train.columns.get_loc(col))"
   ]
  },
  {
   "cell_type": "code",
   "execution_count": 57,
   "metadata": {},
   "outputs": [],
   "source": [
    "import random\n",
    "# samples = random.sample(set(building_list), 5)\n",
    "# print(samples)\n",
    "samples = [1058, 797, 1246, 889, 1190]\n",
    "\n",
    "# building_list = X_test['building_id'].drop_duplicates()\n",
    "# len(building_list)"
   ]
  },
  {
   "cell_type": "code",
   "execution_count": 61,
   "metadata": {},
   "outputs": [
    {
     "name": "stdout",
     "output_type": "stream",
     "text": [
      "train:  1.0780630545346153\n",
      "test:  1.1960939868889247\n",
      "Wall time: 10.2 s\n"
     ]
    }
   ],
   "source": [
    "%%time\n",
    "y_train_list = pd.Series()\n",
    "y_test_list = pd.Series()\n",
    "\n",
    "prediction_train = pd.Series()\n",
    "prediction_test = pd.Series()\n",
    "\n",
    "for sample in samples: \n",
    "    X_train_b = X_train[X_train['building_id']==sample]\n",
    "    y_train_b = y_train[X_train_b.index]\n",
    "    X_test_b = X_test[X_test['building_id']==sample]\n",
    "    y_test_b = y_test[X_test_b.index]\n",
    "        \n",
    "    bst = lgb.LGBMRegressor(n_estimators = 1000)\n",
    "    bst.fit(X_train_b.values, y_train_b.values, categorical_feature=cat_variables_loc)\n",
    "    \n",
    "    prediction_on_X_train = bst.predict(X_train_b)\n",
    "    prediction_on_X_train = pd.Series(prediction_on_X_train)\n",
    "    prediction_on_X_train[prediction_on_X_train<0] = 0\n",
    "\n",
    "    prediction_on_X_test = bst.predict(X_test_b)\n",
    "    prediction_on_X_test = pd.Series(prediction_on_X_test)\n",
    "    prediction_on_X_test[prediction_on_X_test<0] = 0\n",
    "    \n",
    "    y_train_list = pd.concat([y_train_list, y_train_b])\n",
    "    y_test_list = pd.concat([y_test_list, y_test_b])\n",
    "\n",
    "    prediction_train = pd.concat([prediction_train, prediction_on_X_train])\n",
    "    prediction_test = pd.concat([prediction_test, prediction_on_X_test])\n",
    "\n",
    "print('train: ', np.sqrt(mean_squared_log_error( y_train_list, prediction_train)))\n",
    "print('test: ', np.sqrt(mean_squared_log_error( y_test_list, prediction_test)))\n",
    "\n",
    "# no sea_level\n",
    "# train:  1.0829716207630538\n",
    "# test:  1.2138646566281732\n",
    "\n",
    "# no 'site_id', 'primary_use', 'year_built', 'floor_count'\n",
    "# train:  1.079449378290488\n",
    "# test:  1.2049549023052715\n",
    "\n",
    "# w dew_temperature: no good\n",
    "\n",
    "\n",
    "# no 'cloud_coverage',\n",
    "# train:  1.0779989566819095\n",
    "# test:  1.1965857063109497\n",
    "\n",
    "# no direction cat2 and cat\n",
    "# train:  1.0780630545346153\n",
    "# test:  1.1960939868889247\n"
   ]
  }
 ],
 "metadata": {
  "kernelspec": {
   "display_name": "Python 3",
   "language": "python",
   "name": "python3"
  },
  "language_info": {
   "codemirror_mode": {
    "name": "ipython",
    "version": 3
   },
   "file_extension": ".py",
   "mimetype": "text/x-python",
   "name": "python",
   "nbconvert_exporter": "python",
   "pygments_lexer": "ipython3",
   "version": "3.6.8"
  }
 },
 "nbformat": 4,
 "nbformat_minor": 2
}
