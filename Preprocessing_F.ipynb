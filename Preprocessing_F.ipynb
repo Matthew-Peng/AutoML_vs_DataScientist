{
 "cells": [
  {
   "cell_type": "code",
   "execution_count": 1,
   "metadata": {},
   "outputs": [],
   "source": [
    "import pandas as pd\n",
    "import numpy as np\n",
    "import matplotlib.pyplot as plt\n",
    "%matplotlib inline\n",
    "import seaborn as sn\n",
    "\n",
    "\n",
    "import sklearn\n",
    "from sklearn import preprocessing\n",
    "from datetime import datetime\n",
    "import random\n",
    "import math\n",
    "import holidays\n",
    "us_holidays = holidays.UnitedStates()\n"
   ]
  },
  {
   "cell_type": "markdown",
   "metadata": {},
   "source": [
    "## Preprocess Weather Data"
   ]
  },
  {
   "cell_type": "code",
   "execution_count": 10,
   "metadata": {},
   "outputs": [],
   "source": [
    "df_w = pd.read_csv('Data/weather_train.csv')\n",
    "\n",
    "# df_w['month'] = pd.DatetimeIndex(df_w['timestamp']).month.astype(str)\n",
    "# df_w['day'] = pd.DatetimeIndex(df_w['timestamp']).day\n",
    "\n",
    "# df_w['site_id'] = df_w['site_id'].astype(str)\n",
    "\n",
    "df_w2 = df_w.copy(deep=True)\n",
    "\n",
    "df_w2['air_temperature'] = df_w2['air_temperature'].interpolate(method='quadratic', limit_direction='both')\n",
    "df_w2['air_temperature'] = df_w2['air_temperature'].interpolate(method='nearest', limit_direction='both')\n",
    "\n",
    "df_w2['dew_temperature'] = df_w2['dew_temperature'].interpolate(method='linear', limit_direction='both')\n",
    "df_w2['dew_temperature'] = df_w2['dew_temperature'].interpolate(method='nearest', limit_direction='both')\n",
    "\n",
    "df_w2['sea_level_pressure'] = df_w2['sea_level_pressure'].interpolate(method='quadratic', limit_direction='both')\n",
    "df_w2['sea_level_pressure'] = df_w2['sea_level_pressure'].interpolate(method='nearest', limit_direction='both')\n",
    "df_w2['sea_level_pressure'] = np.where((df_w2['site_id']==5), np.nan, df_w2['sea_level_pressure'])\n",
    "\n",
    "df_w2['wind_speed'] = df_w2['wind_speed'].interpolate(method='linear', limit_direction='both')\n",
    "df_w2['wind_speed'] = df_w2['wind_speed'].interpolate(method='nearest', limit_direction='both')\n",
    "\n",
    "\n",
    "df_w2['wind_direction cat'] = np.where(df_w2['wind_direction'].isna(), 'Unknown',\n",
    "                                  np.where(df_w2['wind_speed']==0, 'No Wind',\n",
    "                                  np.where((df_w2['wind_direction']<22.5)  | (df_w2['wind_direction']>=337.5), 'East',\n",
    "                                  np.where((df_w2['wind_direction']<67.5)  & (df_w2['wind_direction']>=22.5), 'Northeast',\n",
    "                                  np.where((df_w2['wind_direction']<112.5) & (df_w2['wind_direction']>=67.5), 'North',\n",
    "                                  np.where((df_w2['wind_direction']<157.5) & (df_w2['wind_direction']>=112.5), 'Northwest',\n",
    "                                  np.where((df_w2['wind_direction']<202.5) & (df_w2['wind_direction']>=157.5), 'West',\n",
    "                                  np.where((df_w2['wind_direction']<247.5) & (df_w2['wind_direction']>=202.5), 'Southwest',\n",
    "                                  np.where((df_w2['wind_direction']<292.5) & (df_w2['wind_direction']>=247.5), 'South', \n",
    "                                  'Southeast')))))))))\n",
    "\n",
    "df_w2['wind_direction cat2'] = np.where(df_w2['wind_direction'].isna(), 'Unknown',\n",
    "                                  np.where(df_w2['wind_speed']==0, 'No Wind',\n",
    "                                  np.where((df_w2['wind_direction']<45)  & (df_w2['wind_direction']>=0), 'East',\n",
    "                                  np.where((df_w2['wind_direction']<90)  & (df_w2['wind_direction']>=45), 'Northeast',\n",
    "                                  np.where((df_w2['wind_direction']<135) & (df_w2['wind_direction']>=90), 'North',\n",
    "                                  np.where((df_w2['wind_direction']<180) & (df_w2['wind_direction']>=135), 'Northwest',\n",
    "                                  np.where((df_w2['wind_direction']<225) & (df_w2['wind_direction']>=180), 'West',\n",
    "                                  np.where((df_w2['wind_direction']<270) & (df_w2['wind_direction']>=225), 'Southwest',\n",
    "                                  np.where((df_w2['wind_direction']<315) & (df_w2['wind_direction']>=270), 'South', \n",
    "                                  'Southeast')))))))))\n",
    "\n",
    "\n",
    "df_w2['precipitation'] = np.where(df_w2['precip_depth_1_hr'].isna(), 'Unknown', \n",
    "                                  np.where(df_w2['precip_depth_1_hr']<=0, 'N', 'Y'))\n",
    "\n",
    "df_w2['precipitation sign'] = np.where(df_w2['precip_depth_1_hr'].isna(), 'Unknown',\n",
    "                                   np.where(df_w2['precip_depth_1_hr']<0, 'Negative',\n",
    "                                   np.where(df_w2['precip_depth_1_hr']==0, 'Zero', 'Positive')))\n",
    "\n",
    "# df_w2['wind_speed_log'] = np.log(df_w2['wind_speed']+1)\n"
   ]
  },
  {
   "cell_type": "code",
   "execution_count": 12,
   "metadata": {},
   "outputs": [
    {
     "data": {
      "text/plain": [
       "Index(['site_id', 'timestamp', 'air_temperature', 'cloud_coverage',\n",
       "       'dew_temperature', 'precip_depth_1_hr', 'sea_level_pressure',\n",
       "       'wind_direction', 'wind_speed', 'wind_direction cat',\n",
       "       'wind_direction cat2', 'precipitation', 'precipitation sign'],\n",
       "      dtype='object')"
      ]
     },
     "execution_count": 12,
     "metadata": {},
     "output_type": "execute_result"
    }
   ],
   "source": [
    "df_w2.columns"
   ]
  },
  {
   "cell_type": "code",
   "execution_count": 19,
   "metadata": {},
   "outputs": [],
   "source": [
    "#####\n",
    "# weather shift\n",
    "shift_hour = 1\n",
    "######\n",
    "\n",
    "cols = ['air_temperature', 'cloud_coverage',\n",
    "       'dew_temperature', 'precip_depth_1_hr', 'sea_level_pressure',\n",
    "       'wind_direction', 'wind_speed', 'wind_direction cat',\n",
    "       'wind_direction cat2', 'precipitation', 'precipitation sign']\n",
    "\n",
    "for col in cols:\n",
    "    df_w2[col+'_lag'] = df_w2[col].shift(shift_hour)\n",
    "    df_w2[col+'_lag'] = df_w2[col].shift(shift_hour)\n"
   ]
  },
  {
   "cell_type": "code",
   "execution_count": 22,
   "metadata": {},
   "outputs": [],
   "source": [
    "df_wt = pd.read_csv('Data/weather_test.csv')\n",
    "\n",
    "# df_wt['month'] = pd.DatetimeIndex(df_wt['timestamp']).month.astype(str)\n",
    "# df_wt['day'] = pd.DatetimeIndex(df_wt['timestamp']).day\n",
    "# df_wt['site_id'] = df_wt['site_id'].astype(str)\n",
    "\n",
    "df_wt2 = df_wt.copy(deep=True)\n",
    "\n",
    "df_wt2['air_temperature'] = df_wt2['air_temperature'].interpolate(method='quadratic', limit_direction='both')\n",
    "df_wt2['air_temperature'] = df_wt2['air_temperature'].interpolate(method='nearest', limit_direction='both')\n",
    "\n",
    "df_wt2['dew_temperature'] = df_wt2['dew_temperature'].interpolate(method='linear', limit_direction='both')\n",
    "df_wt2['dew_temperature'] = df_wt2['dew_temperature'].interpolate(method='nearest', limit_direction='both')\n",
    "\n",
    "df_wt2['sea_level_pressure'] = df_wt2['sea_level_pressure'].interpolate(method='quadratic', limit_direction='both')\n",
    "df_wt2['sea_level_pressure'] = df_wt2['sea_level_pressure'].interpolate(method='nearest', limit_direction='both')\n",
    "df_wt2['sea_level_pressure'] = np.where((df_wt2['site_id']==5), np.nan, df_wt2['sea_level_pressure'])\n",
    "\n",
    "df_wt2['wind_speed'] = df_wt2['wind_speed'].interpolate(method='linear', limit_direction='both')\n",
    "df_wt2['wind_speed'] = df_wt2['wind_speed'].interpolate(method='nearest', limit_direction='both')\n",
    "\n",
    "\n",
    "df_wt2['wind_direction cat'] = np.where(df_wt2['wind_direction'].isna(), 'Unknown',\n",
    "                                  np.where(df_wt2['wind_speed']==0, 'No Wind',\n",
    "                                  np.where((df_wt2['wind_direction']<22.5)  | (df_wt2['wind_direction']>=337.5), 'East',\n",
    "                                  np.where((df_wt2['wind_direction']<67.5)  & (df_wt2['wind_direction']>=22.5), 'Northeast',\n",
    "                                  np.where((df_wt2['wind_direction']<112.5) & (df_wt2['wind_direction']>=67.5), 'North',\n",
    "                                  np.where((df_wt2['wind_direction']<157.5) & (df_wt2['wind_direction']>=112.5), 'Northwest',\n",
    "                                  np.where((df_wt2['wind_direction']<202.5) & (df_wt2['wind_direction']>=157.5), 'West',\n",
    "                                  np.where((df_wt2['wind_direction']<247.5) & (df_wt2['wind_direction']>=202.5), 'Southwest',\n",
    "                                  np.where((df_wt2['wind_direction']<292.5) & (df_wt2['wind_direction']>=247.5), 'South', \n",
    "                                  'Southeast')))))))))\n",
    "df_wt2['wind_direction cat2'] = np.where(df_wt2['wind_direction'].isna(), 'Unknown',\n",
    "                                  np.where(df_wt2['wind_speed']==0, 'No Wind',\n",
    "                                  np.where((df_wt2['wind_direction']<45)  & (df_wt2['wind_direction']>=0), 'East',\n",
    "                                  np.where((df_wt2['wind_direction']<90)  & (df_wt2['wind_direction']>=45), 'Northeast',\n",
    "                                  np.where((df_wt2['wind_direction']<135) & (df_wt2['wind_direction']>=90), 'North',\n",
    "                                  np.where((df_wt2['wind_direction']<180) & (df_wt2['wind_direction']>=135), 'Northwest',\n",
    "                                  np.where((df_wt2['wind_direction']<225) & (df_wt2['wind_direction']>=180), 'West',\n",
    "                                  np.where((df_wt2['wind_direction']<270) & (df_wt2['wind_direction']>=225), 'Southwest',\n",
    "                                  np.where((df_wt2['wind_direction']<315) & (df_wt2['wind_direction']>=270), 'South', \n",
    "                                  'Southeast')))))))))\n",
    "\n",
    "df_wt2['precipitation'] = np.where(df_wt2['precip_depth_1_hr'].isna(), 'Unknown', \n",
    "                                  np.where(df_wt2['precip_depth_1_hr']<=0, 'N', 'Y'))\n",
    "\n",
    "df_wt2['precipitation sign'] = np.where(df_wt2['precip_depth_1_hr'].isna(), 'Unknown',\n",
    "                                   np.where(df_wt2['precip_depth_1_hr']<0, 'Negative',\n",
    "                                   np.where(df_wt2['precip_depth_1_hr']==0, 'Zero', 'Positive')))\n",
    "\n",
    "# df_wt2['wind_speed_log'] = np.log(df_wt2['wind_speed']+1)\n",
    "\n",
    "#####\n",
    "# weather shift\n",
    "shift_hour = 1\n",
    "######\n",
    "\n",
    "cols = ['air_temperature', 'cloud_coverage',\n",
    "       'dew_temperature', 'precip_depth_1_hr', 'sea_level_pressure',\n",
    "       'wind_direction', 'wind_speed', 'wind_direction cat',\n",
    "       'wind_direction cat2', 'precipitation', 'precipitation sign']\n",
    "\n",
    "for col in cols:\n",
    "    df_wt2[col+'_lag'] = df_wt2[col].shift(shift_hour)\n",
    "    df_wt2[col+'_lag'] = df_wt2[col].shift(shift_hour)"
   ]
  },
  {
   "cell_type": "code",
   "execution_count": 24,
   "metadata": {},
   "outputs": [
    {
     "data": {
      "text/plain": [
       "(139773, 24)"
      ]
     },
     "execution_count": 24,
     "metadata": {},
     "output_type": "execute_result"
    }
   ],
   "source": [
    "df_w2.shape"
   ]
  },
  {
   "cell_type": "code",
   "execution_count": 23,
   "metadata": {},
   "outputs": [
    {
     "data": {
      "text/plain": [
       "(277243, 24)"
      ]
     },
     "execution_count": 23,
     "metadata": {},
     "output_type": "execute_result"
    }
   ],
   "source": [
    "df_wt2.shape"
   ]
  },
  {
   "cell_type": "code",
   "execution_count": 25,
   "metadata": {},
   "outputs": [],
   "source": [
    "df_w2.to_csv('data/weather_train_processed_lag.csv', index=False)\n",
    "df_wt2.to_csv('data/weather_test_processed_lag.csv', index=False)"
   ]
  },
  {
   "cell_type": "markdown",
   "metadata": {},
   "source": [
    "## Turn to feather"
   ]
  },
  {
   "cell_type": "code",
   "execution_count": 26,
   "metadata": {},
   "outputs": [],
   "source": [
    "# train_df = pd.read_csv('Data/train.csv')\n",
    "weather_train_df = pd.read_csv('Data/weather_train_processed_lag.csv')\n",
    "# test_df = pd.read_csv('Data/test.csv')\n",
    "weather_test_df = pd.read_csv('Data/weather_test_processed_lag.csv')\n",
    "# building_meta_df = pd.read_csv('Data/building_metadata.csv')\n",
    "# # sample_submission = pd.read_csv(os.path.join(root, 'sample_submission.csv'))\n",
    "\n",
    "# train_df['timestamp'] = pd.to_datetime(train_df['timestamp'])\n",
    "# test_df['timestamp'] = pd.to_datetime(test_df['timestamp'])\n",
    "weather_train_df['timestamp'] = pd.to_datetime(weather_train_df['timestamp'])\n",
    "weather_test_df['timestamp'] = pd.to_datetime(weather_test_df['timestamp'])\n",
    "\n",
    "# train_df.to_feather('Data/train.feather')\n",
    "# test_df.to_feather('Data/test.feather')\n",
    "weather_train_df.to_feather('Data/weather_train_processed_lag.feather')\n",
    "weather_test_df.to_feather('Data/weather_test_processed_lag.feather')\n",
    "# building_meta_df.to_feather('Data/building_metadata.feather')\n",
    "# # sample_submission.to_feather('sample_submission.feather')"
   ]
  },
  {
   "cell_type": "markdown",
   "metadata": {},
   "source": [
    "## Read data and merge"
   ]
  },
  {
   "cell_type": "code",
   "execution_count": 2,
   "metadata": {},
   "outputs": [],
   "source": [
    "train_df = pd.read_feather('Data/train.feather')\n",
    "weather_train_df = pd.read_feather('Data/weather_train_processed_lag.feather')\n",
    "test_df = pd.read_feather('Data/test.feather')\n",
    "weather_test_df = pd.read_feather('Data/weather_test_processed_lag.feather')\n",
    "building_meta_df = pd.read_feather('Data/building_metadata.feather')"
   ]
  },
  {
   "cell_type": "code",
   "execution_count": 3,
   "metadata": {},
   "outputs": [],
   "source": [
    "train_df = train_df.merge(building_meta_df, left_on = \"building_id\", right_on = \"building_id\", how = \"left\")\n",
    "train_df = train_df.merge(weather_train_df, left_on = [\"site_id\", \"timestamp\"], right_on = [\"site_id\", \"timestamp\"], how = \"left\")"
   ]
  },
  {
   "cell_type": "code",
   "execution_count": 4,
   "metadata": {},
   "outputs": [
    {
     "data": {
      "text/plain": [
       "(20216100, 31)"
      ]
     },
     "execution_count": 4,
     "metadata": {},
     "output_type": "execute_result"
    }
   ],
   "source": [
    "train_df.shape"
   ]
  },
  {
   "cell_type": "markdown",
   "metadata": {},
   "source": [
    "## Add some features"
   ]
  },
  {
   "cell_type": "code",
   "execution_count": 5,
   "metadata": {},
   "outputs": [
    {
     "name": "stdout",
     "output_type": "stream",
     "text": [
      "Wall time: 8min 52s\n"
     ]
    }
   ],
   "source": [
    "%%time\n",
    "le = preprocessing.LabelEncoder()\n",
    "train_df['primary_use'] = le.fit_transform(train_df['primary_use'])\n",
    "\n",
    "move = ['meter_reading', 'timestamp'] + [x for x in train_df.columns if x not in ['meter_reading', 'timestamp']]\n",
    "train_df = train_df[move]\n",
    "\n",
    "mask =(train_df['site_id']==0) & (train_df['timestamp'] < '2016-06-01')\n",
    "train_df = train_df[~mask]\n",
    "\n",
    "# this may take mins\n",
    "train_df['date_month'] = train_df['timestamp'].map(lambda x: x.month)\n",
    "train_df['date_day'] = train_df['timestamp'].map(lambda x: x.day)\n",
    "train_df['iso_week'] = train_df['timestamp'].map(lambda x: x.isocalendar()[1])\n",
    "train_df['iso_weekend'] = train_df['timestamp'].map(lambda x: x.isocalendar()[2])\n",
    "train_df['hour'] = train_df['timestamp'].map(lambda x: x.hour)\n",
    "train_df['holidays'] = train_df['timestamp'].map(lambda x: 1 if x in us_holidays else 0)"
   ]
  },
  {
   "cell_type": "code",
   "execution_count": 43,
   "metadata": {},
   "outputs": [],
   "source": [
    "# check = ['meter_reading',  'building_id', 'meter', 'site_id',\n",
    "#        'primary_use', \n",
    "#        'air_temperature', 'cloud_coverage', 'dew_temperature',\n",
    "#        'precip_depth_1_hr',  'wind_direction',\n",
    "#        'wind_speed', \n",
    "#        'air_temperature_lag',\n",
    "#        'cloud_coverage_lag', 'dew_temperature_lag', 'precip_depth_1_hr_lag',\n",
    "#         'wind_direction_lag', 'wind_speed_lag',\n",
    "#         'date_month', 'date_day',\n",
    "#        'iso_week', 'iso_weekend', 'hour', 'holidays']\n",
    "# train_df = train_df[check]"
   ]
  },
  {
   "cell_type": "code",
   "execution_count": 7,
   "metadata": {},
   "outputs": [
    {
     "name": "stdout",
     "output_type": "stream",
     "text": [
      "<class 'pandas.core.frame.DataFrame'>\n",
      "RangeIndex: 19790105 entries, 0 to 19790104\n",
      "Data columns (total 37 columns):\n",
      "meter_reading              float64\n",
      "timestamp                  datetime64[ns]\n",
      "building_id                int64\n",
      "meter                      int64\n",
      "site_id                    int64\n",
      "primary_use                int32\n",
      "square_feet                int64\n",
      "year_built                 float64\n",
      "floor_count                float64\n",
      "air_temperature            float64\n",
      "cloud_coverage             float64\n",
      "dew_temperature            float64\n",
      "precip_depth_1_hr          float64\n",
      "sea_level_pressure         float64\n",
      "wind_direction             float64\n",
      "wind_speed                 float64\n",
      "wind_direction cat         object\n",
      "wind_direction cat2        object\n",
      "precipitation              object\n",
      "precipitation sign         object\n",
      "air_temperature_lag        float64\n",
      "cloud_coverage_lag         float64\n",
      "dew_temperature_lag        float64\n",
      "precip_depth_1_hr_lag      float64\n",
      "sea_level_pressure_lag     float64\n",
      "wind_direction_lag         float64\n",
      "wind_speed_lag             float64\n",
      "wind_direction cat_lag     object\n",
      "wind_direction cat2_lag    object\n",
      "precipitation_lag          object\n",
      "precipitation sign_lag     object\n",
      "date_month                 int64\n",
      "date_day                   int64\n",
      "iso_week                   int64\n",
      "iso_weekend                int64\n",
      "hour                       int64\n",
      "holidays                   int64\n",
      "dtypes: datetime64[ns](1), float64(17), int32(1), int64(10), object(8)\n",
      "memory usage: 5.4+ GB\n"
     ]
    }
   ],
   "source": [
    "train_df.info()"
   ]
  },
  {
   "cell_type": "code",
   "execution_count": 10,
   "metadata": {},
   "outputs": [
    {
     "data": {
      "text/plain": [
       "Index(['meter_reading', 'timestamp', 'building_id', 'meter', 'site_id',\n",
       "       'primary_use', 'square_feet', 'year_built', 'floor_count',\n",
       "       'air_temperature', 'cloud_coverage', 'dew_temperature',\n",
       "       'precip_depth_1_hr', 'sea_level_pressure', 'wind_direction',\n",
       "       'wind_speed', 'wind_direction cat', 'wind_direction cat2',\n",
       "       'precipitation', 'precipitation sign', 'air_temperature_lag',\n",
       "       'cloud_coverage_lag', 'dew_temperature_lag', 'precip_depth_1_hr_lag',\n",
       "       'sea_level_pressure_lag', 'wind_direction_lag', 'wind_speed_lag',\n",
       "       'wind_direction cat_lag', 'wind_direction cat2_lag',\n",
       "       'precipitation_lag', 'precipitation sign_lag', 'date_month', 'date_day',\n",
       "       'iso_week', 'iso_weekend', 'hour', 'holidays'],\n",
       "      dtype='object')"
      ]
     },
     "execution_count": 10,
     "metadata": {},
     "output_type": "execute_result"
    }
   ],
   "source": [
    "train_df.columns"
   ]
  },
  {
   "cell_type": "code",
   "execution_count": 13,
   "metadata": {},
   "outputs": [],
   "source": [
    "use = ['meter_reading', 'building_id', 'meter', 'site_id',\n",
    "       'primary_use', 'square_feet', 'year_built', 'floor_count',\n",
    "       'air_temperature', 'cloud_coverage', 'dew_temperature',\n",
    "       'precip_depth_1_hr', 'sea_level_pressure', 'wind_direction',\n",
    "       'wind_speed', 'wind_direction cat', 'wind_direction cat2',\n",
    "        'air_temperature_lag',\n",
    "       'cloud_coverage_lag', 'dew_temperature_lag', 'precip_depth_1_hr_lag',\n",
    "       'sea_level_pressure_lag', 'wind_direction_lag', 'wind_speed_lag',\n",
    "       'wind_direction cat_lag', 'wind_direction cat2_lag',\n",
    "        'date_month', 'date_day',\n",
    "       'iso_week', 'iso_weekend', 'hour', 'holidays']"
   ]
  },
  {
   "cell_type": "code",
   "execution_count": 14,
   "metadata": {},
   "outputs": [],
   "source": [
    "train_df = train_df[use]"
   ]
  },
  {
   "cell_type": "code",
   "execution_count": 16,
   "metadata": {},
   "outputs": [
    {
     "name": "stdout",
     "output_type": "stream",
     "text": [
      "wind_direction cat\n",
      "wind_direction cat2\n",
      "wind_direction cat_lag\n",
      "wind_direction cat2_lag\n"
     ]
    }
   ],
   "source": [
    "from sklearn import preprocessing\n",
    "\n",
    "train_df['wind_direction cat'][train_df['wind_direction cat'].isna()] = 'Unknown'\n",
    "train_df['wind_direction cat2'][train_df['wind_direction cat2'].isna()] = 'Unknown'\n",
    "train_df['wind_direction cat_lag'][train_df['wind_direction cat_lag'].isna()] = 'Unknown'\n",
    "train_df['wind_direction cat2_lag'][train_df['wind_direction cat2_lag'].isna()] = 'Unknown'\n",
    "\n",
    "cat_need_encode = ['wind_direction cat', 'wind_direction cat2',\n",
    "                  'wind_direction cat_lag', 'wind_direction cat2_lag', \n",
    "                  ]\n",
    "\n",
    "for var in cat_need_encode:\n",
    "    print(var)\n",
    "    le = preprocessing.LabelEncoder()\n",
    "    train_df[var] = le.fit_transform(train_df[var])"
   ]
  },
  {
   "cell_type": "code",
   "execution_count": 17,
   "metadata": {},
   "outputs": [],
   "source": [
    "## Function to reduce the DF size\n",
    "def reduce_mem_usage(df, verbose=True):\n",
    "    numerics = ['int16', 'int32', 'int64', 'float16', 'float32', 'float64']\n",
    "    start_mem = df.memory_usage().sum() / 1024**2    \n",
    "    for col in df.columns:\n",
    "        col_type = df[col].dtypes\n",
    "        if col_type in numerics:\n",
    "            c_min = df[col].min()\n",
    "            c_max = df[col].max()\n",
    "            if str(col_type)[:3] == 'int':\n",
    "                if c_min > np.iinfo(np.int8).min and c_max < np.iinfo(np.int8).max:\n",
    "                    df[col] = df[col].astype(np.int8)\n",
    "                elif c_min > np.iinfo(np.int16).min and c_max < np.iinfo(np.int16).max:\n",
    "                    df[col] = df[col].astype(np.int16)\n",
    "                elif c_min > np.iinfo(np.int32).min and c_max < np.iinfo(np.int32).max:\n",
    "                    df[col] = df[col].astype(np.int32)\n",
    "                elif c_min > np.iinfo(np.int64).min and c_max < np.iinfo(np.int64).max:\n",
    "                    df[col] = df[col].astype(np.int64)  \n",
    "            else:\n",
    "                if c_min > np.finfo(np.float16).min and c_max < np.finfo(np.float16).max:\n",
    "                    df[col] = df[col].astype(np.float16)\n",
    "                elif c_min > np.finfo(np.float32).min and c_max < np.finfo(np.float32).max:\n",
    "                    df[col] = df[col].astype(np.float32)\n",
    "                else:\n",
    "                    df[col] = df[col].astype(np.float64)    \n",
    "    end_mem = df.memory_usage().sum() / 1024**2\n",
    "    if verbose: print('Mem. usage decreased to {:5.2f} Mb ({:.1f}% reduction)'.format(end_mem, 100 * (start_mem - end_mem) / start_mem))\n",
    "    return df\n"
   ]
  },
  {
   "cell_type": "code",
   "execution_count": 18,
   "metadata": {},
   "outputs": [
    {
     "name": "stdout",
     "output_type": "stream",
     "text": [
      "Mem. usage decreased to 1038.03 Mb (76.7% reduction)\n"
     ]
    }
   ],
   "source": [
    "train_df = reduce_mem_usage(train_df)"
   ]
  },
  {
   "cell_type": "code",
   "execution_count": 19,
   "metadata": {},
   "outputs": [
    {
     "name": "stdout",
     "output_type": "stream",
     "text": [
      "<class 'pandas.core.frame.DataFrame'>\n",
      "RangeIndex: 19790105 entries, 0 to 19790104\n",
      "Data columns (total 32 columns):\n",
      "meter_reading              float32\n",
      "building_id                int16\n",
      "meter                      int8\n",
      "site_id                    int8\n",
      "primary_use                int8\n",
      "square_feet                int32\n",
      "year_built                 float16\n",
      "floor_count                float16\n",
      "air_temperature            float16\n",
      "cloud_coverage             float16\n",
      "dew_temperature            float16\n",
      "precip_depth_1_hr          float16\n",
      "sea_level_pressure         float16\n",
      "wind_direction             float16\n",
      "wind_speed                 float16\n",
      "wind_direction cat         int8\n",
      "wind_direction cat2        int8\n",
      "air_temperature_lag        float16\n",
      "cloud_coverage_lag         float16\n",
      "dew_temperature_lag        float16\n",
      "precip_depth_1_hr_lag      float16\n",
      "sea_level_pressure_lag     float16\n",
      "wind_direction_lag         float16\n",
      "wind_speed_lag             float16\n",
      "wind_direction cat_lag     int8\n",
      "wind_direction cat2_lag    int8\n",
      "date_month                 int8\n",
      "date_day                   int8\n",
      "iso_week                   int8\n",
      "iso_weekend                int8\n",
      "hour                       int8\n",
      "holidays                   int8\n",
      "dtypes: float16(16), float32(1), int16(1), int32(1), int8(13)\n",
      "memory usage: 1.0 GB\n"
     ]
    }
   ],
   "source": [
    "train_df.info()"
   ]
  },
  {
   "cell_type": "code",
   "execution_count": 5,
   "metadata": {},
   "outputs": [
    {
     "name": "stdout",
     "output_type": "stream",
     "text": [
      "Wall time: 41.6 s\n"
     ]
    }
   ],
   "source": [
    "%%time\n",
    "train_df = pd.read_csv('processed_automl_google.csv')"
   ]
  },
  {
   "cell_type": "code",
   "execution_count": 6,
   "metadata": {},
   "outputs": [],
   "source": [
    "use = ['meter_reading', 'building_id', 'meter', 'site_id',\n",
    "       'primary_use', 'square_feet', 'year_built', 'floor_count',\n",
    "       'air_temperature', 'cloud_coverage', 'dew_temperature',\n",
    "       'precip_depth_1_hr', 'sea_level_pressure', 'wind_direction',\n",
    "       'wind_speed', 'wind_direction_cat', 'wind_direction_cat2',\n",
    "        'air_temperature_lag',\n",
    "       'cloud_coverage_lag', 'dew_temperature_lag', 'precip_depth_1_hr_lag',\n",
    "       'sea_level_pressure_lag', 'wind_direction_lag', 'wind_speed_lag',\n",
    "       'wind_direction_cat_lag', 'wind_direction_cat2_lag',\n",
    "        'date_month', 'date_day',\n",
    "       'iso_week', 'iso_weekend', 'hour', 'holidays']"
   ]
  },
  {
   "cell_type": "code",
   "execution_count": 7,
   "metadata": {},
   "outputs": [],
   "source": [
    "train_df.columns = use"
   ]
  },
  {
   "cell_type": "code",
   "execution_count": 8,
   "metadata": {},
   "outputs": [
    {
     "data": {
      "text/plain": [
       "Index(['meter_reading', 'building_id', 'meter', 'site_id', 'primary_use',\n",
       "       'square_feet', 'year_built', 'floor_count', 'air_temperature',\n",
       "       'cloud_coverage', 'dew_temperature', 'precip_depth_1_hr',\n",
       "       'sea_level_pressure', 'wind_direction', 'wind_speed',\n",
       "       'wind_direction_cat', 'wind_direction_cat2', 'air_temperature_lag',\n",
       "       'cloud_coverage_lag', 'dew_temperature_lag', 'precip_depth_1_hr_lag',\n",
       "       'sea_level_pressure_lag', 'wind_direction_lag', 'wind_speed_lag',\n",
       "       'wind_direction_cat_lag', 'wind_direction_cat2_lag', 'date_month',\n",
       "       'date_day', 'iso_week', 'iso_weekend', 'hour', 'holidays'],\n",
       "      dtype='object')"
      ]
     },
     "execution_count": 8,
     "metadata": {},
     "output_type": "execute_result"
    }
   ],
   "source": [
    "train_df.columns"
   ]
  },
  {
   "cell_type": "code",
   "execution_count": 9,
   "metadata": {},
   "outputs": [
    {
     "name": "stdout",
     "output_type": "stream",
     "text": [
      "Wall time: 6min 57s\n"
     ]
    }
   ],
   "source": [
    "%%time\n",
    "train_df = train_df.reset_index(drop=True)\n",
    "train_df.to_csv('processed_automl_google.csv', index=False)"
   ]
  }
 ],
 "metadata": {
  "kernelspec": {
   "display_name": "Python 3",
   "language": "python",
   "name": "python3"
  },
  "language_info": {
   "codemirror_mode": {
    "name": "ipython",
    "version": 3
   },
   "file_extension": ".py",
   "mimetype": "text/x-python",
   "name": "python",
   "nbconvert_exporter": "python",
   "pygments_lexer": "ipython3",
   "version": "3.6.8"
  }
 },
 "nbformat": 4,
 "nbformat_minor": 2
}
