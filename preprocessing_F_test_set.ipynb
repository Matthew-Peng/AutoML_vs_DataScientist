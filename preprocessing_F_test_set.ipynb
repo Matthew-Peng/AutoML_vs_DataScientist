{
 "cells": [
  {
   "cell_type": "code",
   "execution_count": 1,
   "metadata": {},
   "outputs": [],
   "source": [
    "import pandas as pd\n",
    "import numpy as np\n",
    "import matplotlib.pyplot as plt\n",
    "%matplotlib inline\n",
    "import seaborn as sn\n",
    "\n",
    "\n",
    "import sklearn\n",
    "from sklearn import preprocessing\n",
    "from datetime import datetime\n",
    "import random\n",
    "import math\n",
    "import holidays\n",
    "us_holidays = holidays.UnitedStates()\n"
   ]
  },
  {
   "cell_type": "code",
   "execution_count": 2,
   "metadata": {},
   "outputs": [],
   "source": [
    "# train_df = pd.read_feather('Data/train.feather')\n",
    "# weather_train_df = pd.read_feather('Data/weather_train_processed_lag.feather')\n",
    "test_df = pd.read_feather('Data/test.feather')\n",
    "weather_test_df = pd.read_feather('Data/weather_test_processed_lag.feather')\n",
    "building_meta_df = pd.read_feather('Data/building_metadata.feather')"
   ]
  },
  {
   "cell_type": "code",
   "execution_count": 3,
   "metadata": {},
   "outputs": [
    {
     "name": "stdout",
     "output_type": "stream",
     "text": [
      "Wall time: 35.8 s\n"
     ]
    }
   ],
   "source": [
    "%%time\n",
    "test_df = test_df.merge(building_meta_df, left_on = \"building_id\", right_on = \"building_id\", how = \"left\")\n",
    "test_df = test_df.merge(weather_test_df, left_on = [\"site_id\", \"timestamp\"], right_on = [\"site_id\", \"timestamp\"], how = \"left\")"
   ]
  },
  {
   "cell_type": "code",
   "execution_count": 4,
   "metadata": {},
   "outputs": [],
   "source": [
    "train_df = test_df\n",
    "# del train_df"
   ]
  },
  {
   "cell_type": "code",
   "execution_count": 6,
   "metadata": {},
   "outputs": [
    {
     "name": "stdout",
     "output_type": "stream",
     "text": [
      "Wall time: 10min 3s\n"
     ]
    }
   ],
   "source": [
    "%%time\n",
    "le = preprocessing.LabelEncoder()\n",
    "train_df['primary_use'] = le.fit_transform(train_df['primary_use'])\n",
    "\n",
    "move = ['timestamp'] + [x for x in train_df.columns if x not in ['meter_reading', 'timestamp']]\n",
    "train_df = train_df[move]\n",
    "\n",
    "mask =(train_df['site_id']==0) & (train_df['timestamp'] < '2016-06-01')\n",
    "train_df = train_df[~mask]\n",
    "\n",
    "# this may take mins\n",
    "train_df['date_month'] = train_df['timestamp'].map(lambda x: x.month)\n",
    "train_df['date_day'] = train_df['timestamp'].map(lambda x: x.day)\n",
    "train_df['iso_week'] = train_df['timestamp'].map(lambda x: x.isocalendar()[1])\n",
    "train_df['iso_weekend'] = train_df['timestamp'].map(lambda x: x.isocalendar()[2])\n",
    "train_df['hour'] = train_df['timestamp'].map(lambda x: x.hour)\n",
    "train_df['holidays'] = train_df['timestamp'].map(lambda x: 1 if x in us_holidays else 0)"
   ]
  },
  {
   "cell_type": "code",
   "execution_count": 8,
   "metadata": {},
   "outputs": [
    {
     "name": "stderr",
     "output_type": "stream",
     "text": [
      "C:\\Users\\spong\\Anaconda3\\envs\\test\\lib\\site-packages\\ipykernel_launcher.py:3: SettingWithCopyWarning: \n",
      "A value is trying to be set on a copy of a slice from a DataFrame\n",
      "\n",
      "See the caveats in the documentation: http://pandas.pydata.org/pandas-docs/stable/indexing.html#indexing-view-versus-copy\n",
      "  This is separate from the ipykernel package so we can avoid doing imports until\n",
      "C:\\Users\\spong\\Anaconda3\\envs\\test\\lib\\site-packages\\ipykernel_launcher.py:4: SettingWithCopyWarning: \n",
      "A value is trying to be set on a copy of a slice from a DataFrame\n",
      "\n",
      "See the caveats in the documentation: http://pandas.pydata.org/pandas-docs/stable/indexing.html#indexing-view-versus-copy\n",
      "  after removing the cwd from sys.path.\n",
      "C:\\Users\\spong\\Anaconda3\\envs\\test\\lib\\site-packages\\ipykernel_launcher.py:5: SettingWithCopyWarning: \n",
      "A value is trying to be set on a copy of a slice from a DataFrame\n",
      "\n",
      "See the caveats in the documentation: http://pandas.pydata.org/pandas-docs/stable/indexing.html#indexing-view-versus-copy\n",
      "  \"\"\"\n",
      "C:\\Users\\spong\\Anaconda3\\envs\\test\\lib\\site-packages\\ipykernel_launcher.py:6: SettingWithCopyWarning: \n",
      "A value is trying to be set on a copy of a slice from a DataFrame\n",
      "\n",
      "See the caveats in the documentation: http://pandas.pydata.org/pandas-docs/stable/indexing.html#indexing-view-versus-copy\n",
      "  \n"
     ]
    },
    {
     "name": "stdout",
     "output_type": "stream",
     "text": [
      "wind_direction cat\n",
      "wind_direction cat2\n",
      "wind_direction cat_lag\n",
      "wind_direction cat2_lag\n"
     ]
    }
   ],
   "source": [
    "from sklearn import preprocessing\n",
    "\n",
    "train_df['wind_direction cat'][train_df['wind_direction cat'].isna()] = 'Unknown'\n",
    "train_df['wind_direction cat2'][train_df['wind_direction cat2'].isna()] = 'Unknown'\n",
    "train_df['wind_direction cat_lag'][train_df['wind_direction cat_lag'].isna()] = 'Unknown'\n",
    "train_df['wind_direction cat2_lag'][train_df['wind_direction cat2_lag'].isna()] = 'Unknown'\n",
    "\n",
    "cat_need_encode = ['wind_direction cat', 'wind_direction cat2',\n",
    "                  'wind_direction cat_lag', 'wind_direction cat2_lag', \n",
    "                  ]\n",
    "\n",
    "for var in cat_need_encode:\n",
    "    print(var)\n",
    "    le = preprocessing.LabelEncoder()\n",
    "    train_df[var] = le.fit_transform(train_df[var])"
   ]
  },
  {
   "cell_type": "code",
   "execution_count": 10,
   "metadata": {},
   "outputs": [],
   "source": [
    "use = [ 'building_id', 'meter', 'site_id',\n",
    "       'primary_use', 'square_feet', 'year_built', 'floor_count',\n",
    "       'air_temperature', 'cloud_coverage', 'dew_temperature',\n",
    "       'precip_depth_1_hr', 'sea_level_pressure', 'wind_direction',\n",
    "       'wind_speed', 'wind_direction cat', 'wind_direction cat2',\n",
    "        'air_temperature_lag',\n",
    "       'cloud_coverage_lag', 'dew_temperature_lag', 'precip_depth_1_hr_lag',\n",
    "       'sea_level_pressure_lag', 'wind_direction_lag', 'wind_speed_lag',\n",
    "       'wind_direction cat_lag', 'wind_direction cat2_lag',\n",
    "        'date_month', 'date_day',\n",
    "       'iso_week', 'iso_weekend', 'hour', 'holidays']"
   ]
  },
  {
   "cell_type": "code",
   "execution_count": 11,
   "metadata": {},
   "outputs": [],
   "source": [
    "train_df = train_df[use]"
   ]
  },
  {
   "cell_type": "code",
   "execution_count": 12,
   "metadata": {},
   "outputs": [],
   "source": [
    "## Function to reduce the DF size\n",
    "def reduce_mem_usage(df, verbose=True):\n",
    "    numerics = ['int16', 'int32', 'int64', 'float16', 'float32', 'float64']\n",
    "    start_mem = df.memory_usage().sum() / 1024**2    \n",
    "    for col in df.columns:\n",
    "        col_type = df[col].dtypes\n",
    "        if col_type in numerics:\n",
    "            c_min = df[col].min()\n",
    "            c_max = df[col].max()\n",
    "            if str(col_type)[:3] == 'int':\n",
    "                if c_min > np.iinfo(np.int8).min and c_max < np.iinfo(np.int8).max:\n",
    "                    df[col] = df[col].astype(np.int8)\n",
    "                elif c_min > np.iinfo(np.int16).min and c_max < np.iinfo(np.int16).max:\n",
    "                    df[col] = df[col].astype(np.int16)\n",
    "                elif c_min > np.iinfo(np.int32).min and c_max < np.iinfo(np.int32).max:\n",
    "                    df[col] = df[col].astype(np.int32)\n",
    "                elif c_min > np.iinfo(np.int64).min and c_max < np.iinfo(np.int64).max:\n",
    "                    df[col] = df[col].astype(np.int64)  \n",
    "            else:\n",
    "                if c_min > np.finfo(np.float16).min and c_max < np.finfo(np.float16).max:\n",
    "                    df[col] = df[col].astype(np.float16)\n",
    "                elif c_min > np.finfo(np.float32).min and c_max < np.finfo(np.float32).max:\n",
    "                    df[col] = df[col].astype(np.float32)\n",
    "                else:\n",
    "                    df[col] = df[col].astype(np.float64)    \n",
    "    end_mem = df.memory_usage().sum() / 1024**2\n",
    "    if verbose: print('Mem. usage decreased to {:5.2f} Mb ({:.1f}% reduction)'.format(end_mem, 100 * (start_mem - end_mem) / start_mem))\n",
    "    return df\n"
   ]
  },
  {
   "cell_type": "code",
   "execution_count": 13,
   "metadata": {},
   "outputs": [
    {
     "name": "stderr",
     "output_type": "stream",
     "text": [
      "C:\\Users\\spong\\Anaconda3\\envs\\test\\lib\\site-packages\\ipykernel_launcher.py:14: SettingWithCopyWarning: \n",
      "A value is trying to be set on a copy of a slice from a DataFrame.\n",
      "Try using .loc[row_indexer,col_indexer] = value instead\n",
      "\n",
      "See the caveats in the documentation: http://pandas.pydata.org/pandas-docs/stable/indexing.html#indexing-view-versus-copy\n",
      "  \n",
      "C:\\Users\\spong\\Anaconda3\\envs\\test\\lib\\site-packages\\ipykernel_launcher.py:12: SettingWithCopyWarning: \n",
      "A value is trying to be set on a copy of a slice from a DataFrame.\n",
      "Try using .loc[row_indexer,col_indexer] = value instead\n",
      "\n",
      "See the caveats in the documentation: http://pandas.pydata.org/pandas-docs/stable/indexing.html#indexing-view-versus-copy\n",
      "  if sys.path[0] == '':\n",
      "C:\\Users\\spong\\Anaconda3\\envs\\test\\lib\\site-packages\\ipykernel_launcher.py:16: SettingWithCopyWarning: \n",
      "A value is trying to be set on a copy of a slice from a DataFrame.\n",
      "Try using .loc[row_indexer,col_indexer] = value instead\n",
      "\n",
      "See the caveats in the documentation: http://pandas.pydata.org/pandas-docs/stable/indexing.html#indexing-view-versus-copy\n",
      "  app.launch_new_instance()\n",
      "C:\\Users\\spong\\Anaconda3\\envs\\test\\lib\\site-packages\\ipykernel_launcher.py:21: SettingWithCopyWarning: \n",
      "A value is trying to be set on a copy of a slice from a DataFrame.\n",
      "Try using .loc[row_indexer,col_indexer] = value instead\n",
      "\n",
      "See the caveats in the documentation: http://pandas.pydata.org/pandas-docs/stable/indexing.html#indexing-view-versus-copy\n"
     ]
    },
    {
     "name": "stdout",
     "output_type": "stream",
     "text": [
      "Mem. usage decreased to 2346.19 Mb (75.4% reduction)\n"
     ]
    }
   ],
   "source": [
    "train_df = reduce_mem_usage(train_df)"
   ]
  },
  {
   "cell_type": "code",
   "execution_count": 15,
   "metadata": {},
   "outputs": [],
   "source": [
    "use = ['building_id', 'meter', 'site_id',\n",
    "       'primary_use', 'square_feet', 'year_built', 'floor_count',\n",
    "       'air_temperature', 'cloud_coverage', 'dew_temperature',\n",
    "       'precip_depth_1_hr', 'sea_level_pressure', 'wind_direction',\n",
    "       'wind_speed', 'wind_direction_cat', 'wind_direction_cat2',\n",
    "        'air_temperature_lag',\n",
    "       'cloud_coverage_lag', 'dew_temperature_lag', 'precip_depth_1_hr_lag',\n",
    "       'sea_level_pressure_lag', 'wind_direction_lag', 'wind_speed_lag',\n",
    "       'wind_direction_cat_lag', 'wind_direction_cat2_lag',\n",
    "        'date_month', 'date_day',\n",
    "       'iso_week', 'iso_weekend', 'hour', 'holidays']\n",
    "\n",
    "train_df.columns = use"
   ]
  },
  {
   "cell_type": "code",
   "execution_count": 16,
   "metadata": {},
   "outputs": [
    {
     "name": "stdout",
     "output_type": "stream",
     "text": [
      "Wall time: 14min 12s\n"
     ]
    }
   ],
   "source": [
    "%%time\n",
    "train_df = train_df.reset_index(drop=True)\n",
    "train_df.to_csv('processed_automl_google_test.csv', index=False)"
   ]
  },
  {
   "cell_type": "code",
   "execution_count": 19,
   "metadata": {},
   "outputs": [
    {
     "name": "stdout",
     "output_type": "stream",
     "text": [
      "<class 'pandas.core.frame.DataFrame'>\n",
      "RangeIndex: 41697600 entries, 0 to 41697599\n",
      "Data columns (total 31 columns):\n",
      "building_id                int16\n",
      "meter                      int8\n",
      "site_id                    int8\n",
      "primary_use                int8\n",
      "square_feet                int32\n",
      "year_built                 float16\n",
      "floor_count                float16\n",
      "air_temperature            float16\n",
      "cloud_coverage             float16\n",
      "dew_temperature            float16\n",
      "precip_depth_1_hr          float16\n",
      "sea_level_pressure         float16\n",
      "wind_direction             float16\n",
      "wind_speed                 float16\n",
      "wind_direction_cat         int8\n",
      "wind_direction_cat2        int8\n",
      "air_temperature_lag        float16\n",
      "cloud_coverage_lag         float16\n",
      "dew_temperature_lag        float16\n",
      "precip_depth_1_hr_lag      float16\n",
      "sea_level_pressure_lag     float16\n",
      "wind_direction_lag         float16\n",
      "wind_speed_lag             float16\n",
      "wind_direction_cat_lag     int8\n",
      "wind_direction_cat2_lag    int8\n",
      "date_month                 int8\n",
      "date_day                   int8\n",
      "iso_week                   int8\n",
      "iso_weekend                int8\n",
      "hour                       int8\n",
      "holidays                   int8\n",
      "dtypes: float16(16), int16(1), int32(1), int8(13)\n",
      "memory usage: 2.0 GB\n"
     ]
    }
   ],
   "source": [
    "train_df.info()"
   ]
  },
  {
   "cell_type": "markdown",
   "metadata": {},
   "source": [
    "## check the order"
   ]
  },
  {
   "cell_type": "code",
   "execution_count": 8,
   "metadata": {},
   "outputs": [],
   "source": [
    "df = pd.read_csv('processed_automl_google_test.csv')"
   ]
  },
  {
   "cell_type": "code",
   "execution_count": 3,
   "metadata": {},
   "outputs": [
    {
     "data": {
      "text/plain": [
       "(41697600, 31)"
      ]
     },
     "execution_count": 3,
     "metadata": {},
     "output_type": "execute_result"
    }
   ],
   "source": [
    "df.shape"
   ]
  },
  {
   "cell_type": "code",
   "execution_count": 40,
   "metadata": {},
   "outputs": [],
   "source": [
    "use = ['building_id', 'meter', \n",
    "        'date_month', 'date_day',\n",
    "       'hour', 'air_temperature', 'wind_direction', 'air_temperature_lag', 'wind_direction_lag',\n",
    "      'dew_temperature', 'dew_temperature_lag',\n",
    "      'sea_level_pressure', 'sea_level_pressure_lag',\n",
    "      'precip_depth_1_hr', 'precip_depth_1_hr_lag', 'precip_depth_1_hr',\n",
    "      'cloud_coverage']\n",
    "\n",
    "df2 = df[use]\n",
    "\n",
    "# del df"
   ]
  },
  {
   "cell_type": "code",
   "execution_count": 41,
   "metadata": {},
   "outputs": [
    {
     "name": "stdout",
     "output_type": "stream",
     "text": [
      "Wall time: 1min 18s\n"
     ]
    }
   ],
   "source": [
    "%%time\n",
    "df3 = df2.drop_duplicates()"
   ]
  },
  {
   "cell_type": "code",
   "execution_count": 43,
   "metadata": {},
   "outputs": [
    {
     "data": {
      "text/plain": [
       "(41696189, 17)"
      ]
     },
     "execution_count": 43,
     "metadata": {},
     "output_type": "execute_result"
    }
   ],
   "source": [
    "df3.shape"
   ]
  },
  {
   "cell_type": "code",
   "execution_count": 44,
   "metadata": {},
   "outputs": [
    {
     "data": {
      "text/plain": [
       "0.999966161121983"
      ]
     },
     "execution_count": 44,
     "metadata": {},
     "output_type": "execute_result"
    }
   ],
   "source": [
    "df3.shape[0]/df.shape[0]"
   ]
  }
 ],
 "metadata": {
  "kernelspec": {
   "display_name": "Python 3",
   "language": "python",
   "name": "python3"
  },
  "language_info": {
   "codemirror_mode": {
    "name": "ipython",
    "version": 3
   },
   "file_extension": ".py",
   "mimetype": "text/x-python",
   "name": "python",
   "nbconvert_exporter": "python",
   "pygments_lexer": "ipython3",
   "version": "3.6.8"
  }
 },
 "nbformat": 4,
 "nbformat_minor": 2
}
