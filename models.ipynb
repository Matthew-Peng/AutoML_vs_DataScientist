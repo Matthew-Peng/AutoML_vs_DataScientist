{
 "cells": [
  {
   "cell_type": "code",
   "execution_count": 6,
   "metadata": {},
   "outputs": [],
   "source": [
    "import pandas as pd\n",
    "import numpy as np\n",
    "import matplotlib.pyplot as plt\n",
    "%matplotlib inline  \n",
    "import os\n",
    "\n",
    "from sklearn import preprocessing\n",
    "import lightgbm as lgb\n",
    "from sklearn.metrics import mean_squared_log_error\n",
    "from sklearn.model_selection import train_test_split\n",
    "\n",
    "pd.set_option('display.max_rows', 500)"
   ]
  },
  {
   "cell_type": "code",
   "execution_count": 2,
   "metadata": {},
   "outputs": [
    {
     "name": "stdout",
     "output_type": "stream",
     "text": [
      "Wall time: 31.8 s\n"
     ]
    }
   ],
   "source": [
    "%%time\n",
    "train = pd.read_csv('train_joined.csv', parse_dates=['timestamp'])"
   ]
  },
  {
   "cell_type": "markdown",
   "metadata": {},
   "source": [
    "## Take out cloud_coverage, precip_depth_1_hr, wind_direction, and  sea_level_pressure for now, and drop some missing values"
   ]
  },
  {
   "cell_type": "code",
   "execution_count": 3,
   "metadata": {},
   "outputs": [
    {
     "data": {
      "text/plain": [
       "building_id        0.0\n",
       "meter              0.0\n",
       "timestamp          0.0\n",
       "meter_reading      0.0\n",
       "site_id            0.0\n",
       "primary_use        0.0\n",
       "square_feet        0.0\n",
       "air_temperature    0.0\n",
       "dew_temperature    0.0\n",
       "wind_speed         0.0\n",
       "dtype: float64"
      ]
     },
     "execution_count": 3,
     "metadata": {},
     "output_type": "execute_result"
    }
   ],
   "source": [
    "train = train.drop(['year_built', 'floor_count', 'Unnamed: 0', \n",
    "                    'precip_depth_1_hr', 'cloud_coverage', 'sea_level_pressure', 'wind_direction'], axis=1)\n",
    "train = train.dropna()\n",
    "train.isnull().sum()/train.shape[0]"
   ]
  },
  {
   "cell_type": "markdown",
   "metadata": {},
   "source": [
    "## Prepocess\n",
    "1. Label primary_use \n",
    "2. move y to the first column\n",
    "3. Remove first 5 months in site 0\n",
    "4. Add month, week day, day, hour"
   ]
  },
  {
   "cell_type": "code",
   "execution_count": 4,
   "metadata": {},
   "outputs": [],
   "source": [
    "le = preprocessing.LabelEncoder()\n",
    "train['primary_use'] = le.fit_transform(train['primary_use'])\n",
    "\n",
    "move = ['meter_reading', 'timestamp'] + [x for x in train.columns if x not in ['meter_reading', 'timestamp']]\n",
    "train = train[move]"
   ]
  },
  {
   "cell_type": "code",
   "execution_count": 7,
   "metadata": {},
   "outputs": [],
   "source": [
    "mask =(train['site_id']==0) & (train['timestamp'] < '2016-06-01')\n",
    "train = train[~mask]"
   ]
  },
  {
   "cell_type": "code",
   "execution_count": 8,
   "metadata": {},
   "outputs": [],
   "source": [
    "## this may take mins\n",
    "train['date_month'] = train['timestamp'].map(lambda x: x.month)\n",
    "train['date_day'] = train['timestamp'].map(lambda x: x.day)\n",
    "train['iso_week'] = train['timestamp'].map(lambda x: x.isocalendar()[1])\n",
    "train['iso_weekend'] = train['timestamp'].map(lambda x: x.isocalendar()[2])\n",
    "train['hour'] = train['timestamp'].map(lambda x: x.hour)"
   ]
  },
  {
   "cell_type": "code",
   "execution_count": 5,
   "metadata": {},
   "outputs": [
    {
     "data": {
      "text/html": [
       "<div>\n",
       "<style scoped>\n",
       "    .dataframe tbody tr th:only-of-type {\n",
       "        vertical-align: middle;\n",
       "    }\n",
       "\n",
       "    .dataframe tbody tr th {\n",
       "        vertical-align: top;\n",
       "    }\n",
       "\n",
       "    .dataframe thead th {\n",
       "        text-align: right;\n",
       "    }\n",
       "</style>\n",
       "<table border=\"1\" class=\"dataframe\">\n",
       "  <thead>\n",
       "    <tr style=\"text-align: right;\">\n",
       "      <th></th>\n",
       "      <th>meter_reading</th>\n",
       "      <th>timestamp</th>\n",
       "      <th>building_id</th>\n",
       "      <th>meter</th>\n",
       "      <th>site_id</th>\n",
       "      <th>primary_use</th>\n",
       "      <th>square_feet</th>\n",
       "      <th>air_temperature</th>\n",
       "      <th>dew_temperature</th>\n",
       "      <th>wind_speed</th>\n",
       "    </tr>\n",
       "  </thead>\n",
       "  <tbody>\n",
       "    <tr>\n",
       "      <th>0</th>\n",
       "      <td>0.0</td>\n",
       "      <td>2016-01-01</td>\n",
       "      <td>0</td>\n",
       "      <td>0</td>\n",
       "      <td>0</td>\n",
       "      <td>0</td>\n",
       "      <td>7432</td>\n",
       "      <td>25.0</td>\n",
       "      <td>20.0</td>\n",
       "      <td>0.0</td>\n",
       "    </tr>\n",
       "    <tr>\n",
       "      <th>1</th>\n",
       "      <td>0.0</td>\n",
       "      <td>2016-01-01</td>\n",
       "      <td>1</td>\n",
       "      <td>0</td>\n",
       "      <td>0</td>\n",
       "      <td>0</td>\n",
       "      <td>2720</td>\n",
       "      <td>25.0</td>\n",
       "      <td>20.0</td>\n",
       "      <td>0.0</td>\n",
       "    </tr>\n",
       "    <tr>\n",
       "      <th>2</th>\n",
       "      <td>0.0</td>\n",
       "      <td>2016-01-01</td>\n",
       "      <td>2</td>\n",
       "      <td>0</td>\n",
       "      <td>0</td>\n",
       "      <td>0</td>\n",
       "      <td>5376</td>\n",
       "      <td>25.0</td>\n",
       "      <td>20.0</td>\n",
       "      <td>0.0</td>\n",
       "    </tr>\n",
       "    <tr>\n",
       "      <th>3</th>\n",
       "      <td>0.0</td>\n",
       "      <td>2016-01-01</td>\n",
       "      <td>3</td>\n",
       "      <td>0</td>\n",
       "      <td>0</td>\n",
       "      <td>0</td>\n",
       "      <td>23685</td>\n",
       "      <td>25.0</td>\n",
       "      <td>20.0</td>\n",
       "      <td>0.0</td>\n",
       "    </tr>\n",
       "    <tr>\n",
       "      <th>4</th>\n",
       "      <td>0.0</td>\n",
       "      <td>2016-01-01</td>\n",
       "      <td>4</td>\n",
       "      <td>0</td>\n",
       "      <td>0</td>\n",
       "      <td>0</td>\n",
       "      <td>116607</td>\n",
       "      <td>25.0</td>\n",
       "      <td>20.0</td>\n",
       "      <td>0.0</td>\n",
       "    </tr>\n",
       "  </tbody>\n",
       "</table>\n",
       "</div>"
      ],
      "text/plain": [
       "   meter_reading  timestamp  building_id  meter  site_id  primary_use  \\\n",
       "0            0.0 2016-01-01            0      0        0            0   \n",
       "1            0.0 2016-01-01            1      0        0            0   \n",
       "2            0.0 2016-01-01            2      0        0            0   \n",
       "3            0.0 2016-01-01            3      0        0            0   \n",
       "4            0.0 2016-01-01            4      0        0            0   \n",
       "\n",
       "   square_feet  air_temperature  dew_temperature  wind_speed  \n",
       "0         7432             25.0             20.0         0.0  \n",
       "1         2720             25.0             20.0         0.0  \n",
       "2         5376             25.0             20.0         0.0  \n",
       "3        23685             25.0             20.0         0.0  \n",
       "4       116607             25.0             20.0         0.0  "
      ]
     },
     "execution_count": 5,
     "metadata": {},
     "output_type": "execute_result"
    }
   ],
   "source": [
    "train.head()"
   ]
  },
  {
   "cell_type": "markdown",
   "metadata": {},
   "source": [
    "## Model code"
   ]
  },
  {
   "cell_type": "code",
   "execution_count": null,
   "metadata": {},
   "outputs": [],
   "source": [
    "# %%time\n",
    "# X = train.iloc[:,2:]\n",
    "# y = train.iloc[:,0]\n",
    "# X_train, X_test, y_train, y_test = train_test_split(X, y, test_size=0.2, random_state=33)\n",
    "\n",
    "# bst = lgb.LGBMRegressor(n_estimators = 500)\n",
    "# bst.fit(X_train.values, y_train.values)\n",
    "\n",
    "# prediction_on_X_train = bst.predict(X_train)\n",
    "# prediction_on_X_train = pd.Series(prediction_on_X_train)\n",
    "# prediction_on_X_train[prediction_on_X_train<0] = 0\n",
    "# print('train: ', np.sqrt(mean_squared_log_error( y_train, prediction_on_X_train)))\n",
    "\n",
    "# prediction_on_X_test = bst.predict(X_test)\n",
    "# prediction_on_X_test = pd.Series(prediction_on_X_test)\n",
    "# prediction_on_X_test[prediction_on_X_test<0] = 0\n",
    "# print('test: ', np.sqrt(mean_squared_log_error( y_test, prediction_on_X_test )))"
   ]
  },
  {
   "cell_type": "markdown",
   "metadata": {},
   "source": [
    "## Model on transformed y"
   ]
  },
  {
   "cell_type": "code",
   "execution_count": 9,
   "metadata": {},
   "outputs": [
    {
     "name": "stdout",
     "output_type": "stream",
     "text": [
      "Wall time: 27 s\n"
     ]
    }
   ],
   "source": [
    "%%time\n",
    "X = train.iloc[:,2:]\n",
    "y = train.iloc[:,0].map(lambda x: np.log(x+1))\n",
    "X_train, X_test, y_train, y_test = train_test_split(X, y, test_size=0.2, random_state=33)"
   ]
  },
  {
   "cell_type": "code",
   "execution_count": 10,
   "metadata": {},
   "outputs": [
    {
     "name": "stdout",
     "output_type": "stream",
     "text": [
      "Wall time: 3min 26s\n"
     ]
    },
    {
     "data": {
      "text/plain": [
       "LGBMRegressor(boosting_type='gbdt', class_weight=None, colsample_bytree=1.0,\n",
       "              importance_type='split', learning_rate=0.1, max_depth=-1,\n",
       "              min_child_samples=20, min_child_weight=0.001, min_split_gain=0.0,\n",
       "              n_estimators=500, n_jobs=-1, num_leaves=31, objective=None,\n",
       "              random_state=None, reg_alpha=0.0, reg_lambda=0.0, silent=True,\n",
       "              subsample=1.0, subsample_for_bin=200000, subsample_freq=0)"
      ]
     },
     "execution_count": 10,
     "metadata": {},
     "output_type": "execute_result"
    }
   ],
   "source": [
    "%%time\n",
    "bst = lgb.LGBMRegressor(n_estimators = 500)\n",
    "bst.fit(X_train.values, y_train.values)"
   ]
  },
  {
   "cell_type": "code",
   "execution_count": 11,
   "metadata": {},
   "outputs": [
    {
     "name": "stdout",
     "output_type": "stream",
     "text": [
      "train:  2.9720583404140104\n",
      "test:  2.971924446128734\n",
      "Wall time: 1min 49s\n"
     ]
    }
   ],
   "source": [
    "%%time\n",
    "prediction_on_X_train = bst.predict(X_train)\n",
    "prediction_on_X_train = pd.Series(prediction_on_X_train)\n",
    "prediction_on_X_train[prediction_on_X_train<0] = 0\n",
    "prediction_on_X_train = prediction_on_X_train.map(lambda x: np.exp(x)-1)\n",
    "print('train: ', np.sqrt(mean_squared_log_error( y_train, prediction_on_X_train)))\n",
    "\n",
    "prediction_on_X_test = bst.predict(X_test)\n",
    "prediction_on_X_test = pd.Series(prediction_on_X_test)\n",
    "prediction_on_X_test[prediction_on_X_test<0] = 0\n",
    "prediction_on_X_test = prediction_on_X_test.map(lambda x: np.exp(x)-1)\n",
    "print('test: ', np.sqrt(mean_squared_log_error( y_test, prediction_on_X_test )))"
   ]
  },
  {
   "cell_type": "markdown",
   "metadata": {},
   "source": [
    "## Randomly train a model for a building\n",
    "My hypothesis is: if we train model for each building, then we can improve performance significantly.\n",
    "\n",
    "To test my hypothesis, I'm going to randomly choose some buildings and build models on each of them."
   ]
  },
  {
   "cell_type": "code",
   "execution_count": 26,
   "metadata": {},
   "outputs": [
    {
     "data": {
      "text/plain": [
       "12050655    567\n",
       "12967906    621\n",
       "13361193    591\n",
       "13918351    783\n",
       "18997786    403\n",
       "Name: building_id, dtype: int64"
      ]
     },
     "execution_count": 26,
     "metadata": {},
     "output_type": "execute_result"
    }
   ],
   "source": [
    "building_list = train['building_id'].drop_duplicates()\n",
    "building_list[-5:]"
   ]
  },
  {
   "cell_type": "code",
   "execution_count": 45,
   "metadata": {},
   "outputs": [
    {
     "data": {
      "text/plain": [
       "1449"
      ]
     },
     "execution_count": 45,
     "metadata": {},
     "output_type": "execute_result"
    }
   ],
   "source": [
    "len(building_list)"
   ]
  },
  {
   "cell_type": "code",
   "execution_count": 30,
   "metadata": {},
   "outputs": [
    {
     "data": {
      "text/plain": [
       "<matplotlib.axes._subplots.AxesSubplot at 0x20f974e7dd8>"
      ]
     },
     "execution_count": 30,
     "metadata": {},
     "output_type": "execute_result"
    },
    {
     "data": {
      "image/png": "[encoded data removed]",
      "text/plain": [
       "<Figure size 432x288 with 1 Axes>"
      ]
     },
     "metadata": {
      "needs_background": "light"
     },
     "output_type": "display_data"
    }
   ],
   "source": [
    "sample = train[train['building_id']==403]\n",
    "sample['meter_reading'].plot.hist()"
   ]
  },
  {
   "cell_type": "code",
   "execution_count": 31,
   "metadata": {},
   "outputs": [
    {
     "data": {
      "text/plain": [
       "(479, 15)"
      ]
     },
     "execution_count": 31,
     "metadata": {},
     "output_type": "execute_result"
    }
   ],
   "source": [
    "sample.shape"
   ]
  },
  {
   "cell_type": "code",
   "execution_count": 32,
   "metadata": {},
   "outputs": [
    {
     "name": "stdout",
     "output_type": "stream",
     "text": [
      "train:  0.019758227944799908\n",
      "test:  0.03989536278172967\n",
      "Wall time: 63.8 ms\n"
     ]
    }
   ],
   "source": [
    "%%time\n",
    "X = sample.iloc[:,2:]\n",
    "y = sample.iloc[:,0]\n",
    "X_train, X_test, y_train, y_test = train_test_split(X, y, test_size=0.2, random_state=33)\n",
    "\n",
    "bst = lgb.LGBMRegressor(n_estimators = 100)\n",
    "bst.fit(X_train.values, y_train.values)\n",
    "\n",
    "prediction_on_X_train = bst.predict(X_train)\n",
    "prediction_on_X_train = pd.Series(prediction_on_X_train)\n",
    "prediction_on_X_train[prediction_on_X_train<0] = 0\n",
    "print('train: ', np.sqrt(mean_squared_log_error( y_train, prediction_on_X_train)))\n",
    "\n",
    "prediction_on_X_test = bst.predict(X_test)\n",
    "prediction_on_X_test = pd.Series(prediction_on_X_test)\n",
    "prediction_on_X_test[prediction_on_X_test<0] = 0\n",
    "print('test: ', np.sqrt(mean_squared_log_error( y_test, prediction_on_X_test )))"
   ]
  },
  {
   "cell_type": "markdown",
   "metadata": {},
   "source": [
    "#### First test seems promising, I am going to select 50 bulinds and train model on each of them"
   ]
  },
  {
   "cell_type": "code",
   "execution_count": 41,
   "metadata": {},
   "outputs": [
    {
     "name": "stdout",
     "output_type": "stream",
     "text": [
      "[1062, 1032, 1422, 971, 503, 477, 277, 1211, 1417, 339, 848, 288, 1230, 541, 143, 113, 493, 388, 1023, 739, 69, 454, 662, 1357, 840, 924, 1060, 140, 1073, 953, 344, 144, 761, 91, 650, 1152, 1315, 1024, 795, 1203, 1219, 439, 110, 634, 733, 420, 1218, 548, 646, 515]\n"
     ]
    }
   ],
   "source": [
    "import random\n",
    "samples = random.sample(set(building_list), 50)\n",
    "print(samples)"
   ]
  },
  {
   "cell_type": "code",
   "execution_count": 42,
   "metadata": {},
   "outputs": [
    {
     "name": "stdout",
     "output_type": "stream",
     "text": [
      "Wall time: 11.2 s\n"
     ]
    }
   ],
   "source": [
    "%%time\n",
    "y_train_list = pd.Series()\n",
    "y_test_list = pd.Series()\n",
    "\n",
    "prediction_train = pd.Series()\n",
    "prediction_test = pd.Series()\n",
    "\n",
    "for sample in samples: \n",
    "    sample_df = train[train['building_id']==sample]\n",
    "    X = sample_df.iloc[:,2:]\n",
    "    y = sample_df.iloc[:,0]\n",
    "    X_train, X_test, y_train, y_test = train_test_split(X, y, test_size=0.2, random_state=33)\n",
    "    \n",
    "    bst = lgb.LGBMRegressor(n_estimators = 100)\n",
    "    bst.fit(X_train.values, y_train.values)\n",
    "    \n",
    "    prediction_on_X_train = bst.predict(X_train)\n",
    "    prediction_on_X_train = pd.Series(prediction_on_X_train)\n",
    "    prediction_on_X_train[prediction_on_X_train<0] = 0\n",
    "\n",
    "    prediction_on_X_test = bst.predict(X_test)\n",
    "    prediction_on_X_test = pd.Series(prediction_on_X_test)\n",
    "    prediction_on_X_test[prediction_on_X_test<0] = 0\n",
    "    \n",
    "    y_train_list = pd.concat([y_train_list, y_train])\n",
    "    y_test_list = pd.concat([y_test_list, y_test])\n",
    "\n",
    "    prediction_train = pd.concat([prediction_train, prediction_on_X_train])\n",
    "    prediction_test = pd.concat([prediction_test, prediction_on_X_test])\n",
    "\n",
    "print('train: ', np.sqrt(mean_squared_log_error( y_train_list, prediction_train)))\n",
    "print('test: ', np.sqrt(mean_squared_log_error( y_test_list, prediction_test)))"
   ]
  },
  {
   "cell_type": "markdown",
   "metadata": {},
   "source": [
    "#### It looks like it works...so I want to try all of the buildings"
   ]
  },
  {
   "cell_type": "code",
   "execution_count": 44,
   "metadata": {},
   "outputs": [
    {
     "name": "stdout",
     "output_type": "stream",
     "text": [
      "train:  0.7891547100761008\n",
      "test:  0.8118887312070232\n",
      "Wall time: 8min 2s\n"
     ]
    }
   ],
   "source": [
    "%%time\n",
    "y_train_list = pd.Series()\n",
    "y_test_list = pd.Series()\n",
    "\n",
    "prediction_train = pd.Series()\n",
    "prediction_test = pd.Series()\n",
    "\n",
    "for sample in building_list: \n",
    "    sample_df = train[train['building_id']==sample]\n",
    "    X = sample_df.iloc[:,2:]\n",
    "    y = sample_df.iloc[:,0]\n",
    "    X_train, X_test, y_train, y_test = train_test_split(X, y, test_size=0.2, random_state=33)\n",
    "    \n",
    "    bst = lgb.LGBMRegressor(n_estimators = 100)\n",
    "    bst.fit(X_train.values, y_train.values)\n",
    "    \n",
    "    prediction_on_X_train = bst.predict(X_train)\n",
    "    prediction_on_X_train = pd.Series(prediction_on_X_train)\n",
    "    prediction_on_X_train[prediction_on_X_train<0] = 0\n",
    "\n",
    "    prediction_on_X_test = bst.predict(X_test)\n",
    "    prediction_on_X_test = pd.Series(prediction_on_X_test)\n",
    "    prediction_on_X_test[prediction_on_X_test<0] = 0\n",
    "    \n",
    "    y_train_list = pd.concat([y_train_list, y_train])\n",
    "    y_test_list = pd.concat([y_test_list, y_test])\n",
    "\n",
    "    prediction_train = pd.concat([prediction_train, prediction_on_X_train])\n",
    "    prediction_test = pd.concat([prediction_test, prediction_on_X_test])\n",
    "\n",
    "print('train: ', np.sqrt(mean_squared_log_error( y_train_list, prediction_train)))\n",
    "print('test: ', np.sqrt(mean_squared_log_error( y_test_list, prediction_test)))"
   ]
  }
 ],
 "metadata": {
  "kernelspec": {
   "display_name": "Python 3",
   "language": "python",
   "name": "python3"
  },
  "language_info": {
   "codemirror_mode": {
    "name": "ipython",
    "version": 3
   },
   "file_extension": ".py",
   "mimetype": "text/x-python",
   "name": "python",
   "nbconvert_exporter": "python",
   "pygments_lexer": "ipython3",
   "version": "3.6.8"
  }
 },
 "nbformat": 4,
 "nbformat_minor": 2
}
