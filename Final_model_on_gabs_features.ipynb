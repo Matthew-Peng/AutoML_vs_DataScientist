{
 "cells": [
  {
   "cell_type": "code",
   "execution_count": 1,
   "metadata": {},
   "outputs": [],
   "source": [
    "import pandas as pd\n",
    "import numpy as np\n",
    "import matplotlib.pyplot as plt\n",
    "%matplotlib inline  \n",
    "import os\n",
    "\n",
    "from sklearn import preprocessing\n",
    "import lightgbm as lgb\n",
    "from sklearn.metrics import mean_squared_log_error\n",
    "from sklearn.model_selection import train_test_split\n",
    "\n",
    "from datetime import date\n",
    "import holidays\n",
    "us_holidays = holidays.UnitedStates()\n",
    "\n",
    "pd.set_option('display.max_rows', 500)\n",
    "pd.set_option('display.max_columns', 500)"
   ]
  },
  {
   "cell_type": "code",
   "execution_count": 2,
   "metadata": {},
   "outputs": [],
   "source": [
    "df = pd.read_feather('Data/train_joined_processed_processed.feather')\n",
    "\n",
    "current_vars = ['building_id', 'meter', 'site_id', 'primary_use', \n",
    "       'year_built', 'floor_count', 'air_temperature', 'cloud_coverage',\n",
    "        'precip_depth_1_hr', 'sea_level_pressure',\n",
    "       'wind_direction', 'month', 'day', 'wind_direction cat',\n",
    "       'wind_direction cat2',  \n",
    "       'wind_speed_log', 'iso_weekend', 'hour', 'holidays']\n",
    "\n",
    "\n",
    "train_df = df.sample(frac=0.8,random_state=11)\n",
    "test_df = df.drop(train_df.index)\n",
    "\n",
    "X_train = train_df[current_vars]\n",
    "y_train = train_df.iloc[:,0]\n",
    "\n",
    "X_test = test_df[current_vars]\n",
    "y_test = test_df.iloc[:,0]\n",
    "\n",
    "del df\n",
    "del train_df\n",
    "del test_df"
   ]
  },
  {
   "cell_type": "code",
   "execution_count": 3,
   "metadata": {},
   "outputs": [],
   "source": [
    "X_half_1 = X_train.sample(frac=0.5,random_state=33)\n",
    "X_half_2 = X_train.drop(X_half_1.index)\n",
    "\n",
    "y_half_1 = y_train[X_half_1.index]\n",
    "y_half_2 = y_train[X_half_2.index]"
   ]
  },
  {
   "cell_type": "code",
   "execution_count": 4,
   "metadata": {},
   "outputs": [],
   "source": [
    "categorical_features = ['meter', 'site_id', 'primary_use', \n",
    "                'iso_weekend',  'holidays',\n",
    "                'wind_direction cat']\n",
    "\n",
    "d_half_1 = lgb.Dataset(X_half_1, label=y_half_1, categorical_feature=categorical_features, free_raw_data=False)\n",
    "d_half_2 = lgb.Dataset(X_half_2, label=y_half_2, categorical_feature=categorical_features, free_raw_data=False)\n",
    "\n",
    "watchlist_1 = [d_half_1, d_half_2]\n",
    "watchlist_2 = [d_half_2, d_half_1]\n",
    "\n",
    "params = {\n",
    "    \"objective\": \"regression\",\n",
    "    \"boosting\": \"gbdt\",\n",
    "    \"num_leaves\": 40,\n",
    "    \"learning_rate\": 0.05,\n",
    "    \"feature_fraction\": 0.85,\n",
    "    \"reg_lambda\": 2,\n",
    "    \"metric\": \"rmse\"\n",
    "}"
   ]
  },
  {
   "cell_type": "code",
   "execution_count": 5,
   "metadata": {},
   "outputs": [
    {
     "name": "stderr",
     "output_type": "stream",
     "text": [
      "C:\\Users\\spong\\Anaconda3\\envs\\test\\lib\\site-packages\\lightgbm\\basic.py:1243: UserWarning: Using categorical_feature in Dataset.\n",
      "  warnings.warn('Using categorical_feature in Dataset.')\n"
     ]
    },
    {
     "name": "stdout",
     "output_type": "stream",
     "text": [
      "Training until validation scores don't improve for 200 rounds\n",
      "[200]\ttraining's rmse: 29652.7\tvalid_1's rmse: 41513.3\n",
      "[400]\ttraining's rmse: 24225.3\tvalid_1's rmse: 38234.9\n",
      "[600]\ttraining's rmse: 22456.3\tvalid_1's rmse: 37473.4\n",
      "[800]\ttraining's rmse: 21655.1\tvalid_1's rmse: 37222\n",
      "[1000]\ttraining's rmse: 20661\tvalid_1's rmse: 36902.9\n",
      "[1200]\ttraining's rmse: 19846.8\tvalid_1's rmse: 36667.5\n",
      "[1400]\ttraining's rmse: 19131.6\tvalid_1's rmse: 36379.8\n",
      "[1600]\ttraining's rmse: 18430\tvalid_1's rmse: 36125.5\n",
      "[1800]\ttraining's rmse: 17725.4\tvalid_1's rmse: 35881.5\n",
      "[2000]\ttraining's rmse: 17309.2\tvalid_1's rmse: 35791.7\n",
      "[2200]\ttraining's rmse: 16837\tvalid_1's rmse: 35641.8\n",
      "[2400]\ttraining's rmse: 16469.6\tvalid_1's rmse: 35537.3\n",
      "[2600]\ttraining's rmse: 16002.8\tvalid_1's rmse: 35407.6\n",
      "[2800]\ttraining's rmse: 15711.1\tvalid_1's rmse: 35314.4\n",
      "[3000]\ttraining's rmse: 15358.2\tvalid_1's rmse: 35173.5\n",
      "Did not meet early stopping. Best iteration is:\n",
      "[3000]\ttraining's rmse: 15358.2\tvalid_1's rmse: 35173.5\n",
      "Training until validation scores don't improve for 200 rounds\n",
      "[200]\ttraining's rmse: 29961\tvalid_1's rmse: 41481\n",
      "[400]\ttraining's rmse: 25678.9\tvalid_1's rmse: 39356.8\n",
      "[600]\ttraining's rmse: 22376.7\tvalid_1's rmse: 37907.3\n",
      "[800]\ttraining's rmse: 20906.2\tvalid_1's rmse: 37546.7\n",
      "[1000]\ttraining's rmse: 19838.6\tvalid_1's rmse: 37178.1\n",
      "[1200]\ttraining's rmse: 19229.1\tvalid_1's rmse: 37019.4\n",
      "[1400]\ttraining's rmse: 18526.8\tvalid_1's rmse: 36810.3\n",
      "[1600]\ttraining's rmse: 17958.2\tvalid_1's rmse: 36669.2\n",
      "[1800]\ttraining's rmse: 17350.2\tvalid_1's rmse: 36476.6\n",
      "[2000]\ttraining's rmse: 16921.1\tvalid_1's rmse: 36334.4\n",
      "[2200]\ttraining's rmse: 16550.3\tvalid_1's rmse: 36281.3\n",
      "[2400]\ttraining's rmse: 16044.3\tvalid_1's rmse: 36132.1\n",
      "[2600]\ttraining's rmse: 15627.9\tvalid_1's rmse: 36029.9\n",
      "[2800]\ttraining's rmse: 15276\tvalid_1's rmse: 35964.6\n",
      "[3000]\ttraining's rmse: 14885.6\tvalid_1's rmse: 35843.5\n",
      "Did not meet early stopping. Best iteration is:\n",
      "[3000]\ttraining's rmse: 14885.6\tvalid_1's rmse: 35843.5\n",
      "train:  2.28822249513734\n",
      "test:  2.2915356857342903\n",
      "Wall time: 37min 6s\n"
     ]
    }
   ],
   "source": [
    "%%time\n",
    "\n",
    "num_boost_round = 3000\n",
    "\n",
    "model_half_1 = lgb.train(params, train_set=d_half_1, \n",
    "                         num_boost_round=num_boost_round, \n",
    "                         valid_sets=watchlist_1, \n",
    "                         verbose_eval=200, \n",
    "                         early_stopping_rounds=200)\n",
    "\n",
    "model_half_2 = lgb.train(params, train_set=d_half_2, \n",
    "                         num_boost_round=num_boost_round, \n",
    "                         valid_sets=watchlist_2, \n",
    "                         verbose_eval=200, \n",
    "                         early_stopping_rounds=200)\n",
    "\n",
    "prediction_on_X_train = (model_half_1.predict(X_train) + model_half_2.predict(X_train))/2\n",
    "prediction_on_X_train = pd.Series(prediction_on_X_train)\n",
    "prediction_on_X_train[prediction_on_X_train<0] = 0\n",
    "print('train: ', np.sqrt(mean_squared_log_error( y_train, prediction_on_X_train)))\n",
    "\n",
    "prediction_on_X_test = (model_half_1.predict(X_test) + model_half_2.predict(X_test))/2\n",
    "prediction_on_X_test = pd.Series(prediction_on_X_test)\n",
    "prediction_on_X_test[prediction_on_X_test<0] = 0\n",
    "print('test: ', np.sqrt(mean_squared_log_error( y_test, prediction_on_X_test )))"
   ]
  },
  {
   "cell_type": "markdown",
   "metadata": {},
   "source": [
    "## num_boost_round=1000: 2.47\n",
    "## num_boost_round=3000: 2.2915356857342903"
   ]
  }
 ],
 "metadata": {
  "kernelspec": {
   "display_name": "Python 3",
   "language": "python",
   "name": "python3"
  },
  "language_info": {
   "codemirror_mode": {
    "name": "ipython",
    "version": 3
   },
   "file_extension": ".py",
   "mimetype": "text/x-python",
   "name": "python",
   "nbconvert_exporter": "python",
   "pygments_lexer": "ipython3",
   "version": "3.6.8"
  }
 },
 "nbformat": 4,
 "nbformat_minor": 2
}
