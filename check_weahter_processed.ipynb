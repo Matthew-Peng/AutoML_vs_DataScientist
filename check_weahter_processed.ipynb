{
 "cells": [
  {
   "cell_type": "code",
   "execution_count": 1,
   "metadata": {},
   "outputs": [],
   "source": [
    "import pandas as pd"
   ]
  },
  {
   "cell_type": "code",
   "execution_count": 2,
   "metadata": {},
   "outputs": [],
   "source": [
    "weather_train_df = pd.read_csv('Data/weather_train_processed_lag.csv')\n",
    "weather_test_df = pd.read_csv('Data/weather_test_processed_lag.csv')"
   ]
  },
  {
   "cell_type": "code",
   "execution_count": 5,
   "metadata": {},
   "outputs": [],
   "source": [
    "df_w = pd.read_csv('Data/weather_train.csv')\n"
   ]
  },
  {
   "cell_type": "code",
   "execution_count": 6,
   "metadata": {},
   "outputs": [
    {
     "name": "stdout",
     "output_type": "stream",
     "text": [
      "<class 'pandas.core.frame.DataFrame'>\n",
      "RangeIndex: 139773 entries, 0 to 139772\n",
      "Data columns (total 9 columns):\n",
      "site_id               139773 non-null int64\n",
      "timestamp             139773 non-null object\n",
      "air_temperature       139718 non-null float64\n",
      "cloud_coverage        70600 non-null float64\n",
      "dew_temperature       139660 non-null float64\n",
      "precip_depth_1_hr     89484 non-null float64\n",
      "sea_level_pressure    129155 non-null float64\n",
      "wind_direction        133505 non-null float64\n",
      "wind_speed            139469 non-null float64\n",
      "dtypes: float64(7), int64(1), object(1)\n",
      "memory usage: 9.6+ MB\n"
     ]
    }
   ],
   "source": [
    "df_w.info()"
   ]
  },
  {
   "cell_type": "code",
   "execution_count": 4,
   "metadata": {},
   "outputs": [
    {
     "name": "stdout",
     "output_type": "stream",
     "text": [
      "<class 'pandas.core.frame.DataFrame'>\n",
      "RangeIndex: 139773 entries, 0 to 139772\n",
      "Data columns (total 24 columns):\n",
      "site_id                    139773 non-null int64\n",
      "timestamp                  139773 non-null object\n",
      "air_temperature            139773 non-null float64\n",
      "cloud_coverage             70600 non-null float64\n",
      "dew_temperature            139773 non-null float64\n",
      "precip_depth_1_hr          89484 non-null float64\n",
      "sea_level_pressure         131018 non-null float64\n",
      "wind_direction             133505 non-null float64\n",
      "wind_speed                 139773 non-null float64\n",
      "wind_direction cat         139773 non-null object\n",
      "wind_direction cat2        139773 non-null object\n",
      "precipitation              139773 non-null object\n",
      "precipitation sign         139773 non-null object\n",
      "air_temperature_lag        139772 non-null float64\n",
      "cloud_coverage_lag         70600 non-null float64\n",
      "dew_temperature_lag        139772 non-null float64\n",
      "precip_depth_1_hr_lag      89483 non-null float64\n",
      "sea_level_pressure_lag     131017 non-null float64\n",
      "wind_direction_lag         133504 non-null float64\n",
      "wind_speed_lag             139772 non-null float64\n",
      "wind_direction cat_lag     139772 non-null object\n",
      "wind_direction cat2_lag    139772 non-null object\n",
      "precipitation_lag          139772 non-null object\n",
      "precipitation sign_lag     139772 non-null object\n",
      "dtypes: float64(14), int64(1), object(9)\n",
      "memory usage: 25.6+ MB\n"
     ]
    }
   ],
   "source": [
    "weather_train_df.info()"
   ]
  }
 ],
 "metadata": {
  "kernelspec": {
   "display_name": "Python 3",
   "language": "python",
   "name": "python3"
  },
  "language_info": {
   "codemirror_mode": {
    "name": "ipython",
    "version": 3
   },
   "file_extension": ".py",
   "mimetype": "text/x-python",
   "name": "python",
   "nbconvert_exporter": "python",
   "pygments_lexer": "ipython3",
   "version": "3.6.8"
  }
 },
 "nbformat": 4,
 "nbformat_minor": 2
}
